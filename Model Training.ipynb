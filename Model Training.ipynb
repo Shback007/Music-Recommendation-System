{
 "cells": [
  {
   "cell_type": "code",
   "execution_count": 1,
   "id": "30fe1fdc-ba2b-4fc7-89d3-d618e2bca4a7",
   "metadata": {},
   "outputs": [],
   "source": [
    "import pandas as pd"
   ]
  },
  {
   "cell_type": "code",
   "execution_count": 2,
   "id": "2da60fda-480c-4d2c-9640-75ef0eddc3b9",
   "metadata": {},
   "outputs": [],
   "source": [
    "df = pd.read_csv('spotify_millsongdata.csv')"
   ]
  },
  {
   "cell_type": "code",
   "execution_count": 3,
   "id": "9041cdca-5ac8-4648-9a78-a5402dcb3df9",
   "metadata": {},
   "outputs": [
    {
     "data": {
      "text/html": [
       "<div>\n",
       "<style scoped>\n",
       "    .dataframe tbody tr th:only-of-type {\n",
       "        vertical-align: middle;\n",
       "    }\n",
       "\n",
       "    .dataframe tbody tr th {\n",
       "        vertical-align: top;\n",
       "    }\n",
       "\n",
       "    .dataframe thead th {\n",
       "        text-align: right;\n",
       "    }\n",
       "</style>\n",
       "<table border=\"1\" class=\"dataframe\">\n",
       "  <thead>\n",
       "    <tr style=\"text-align: right;\">\n",
       "      <th></th>\n",
       "      <th>artist</th>\n",
       "      <th>song</th>\n",
       "      <th>link</th>\n",
       "      <th>text</th>\n",
       "    </tr>\n",
       "  </thead>\n",
       "  <tbody>\n",
       "    <tr>\n",
       "      <th>0</th>\n",
       "      <td>ABBA</td>\n",
       "      <td>Ahe's My Kind Of Girl</td>\n",
       "      <td>/a/abba/ahes+my+kind+of+girl_20598417.html</td>\n",
       "      <td>Look at her face, it's a wonderful face  \\r\\nA...</td>\n",
       "    </tr>\n",
       "    <tr>\n",
       "      <th>1</th>\n",
       "      <td>ABBA</td>\n",
       "      <td>Andante, Andante</td>\n",
       "      <td>/a/abba/andante+andante_20002708.html</td>\n",
       "      <td>Take it easy with me, please  \\r\\nTouch me gen...</td>\n",
       "    </tr>\n",
       "    <tr>\n",
       "      <th>2</th>\n",
       "      <td>ABBA</td>\n",
       "      <td>As Good As New</td>\n",
       "      <td>/a/abba/as+good+as+new_20003033.html</td>\n",
       "      <td>I'll never know why I had to go  \\r\\nWhy I had...</td>\n",
       "    </tr>\n",
       "    <tr>\n",
       "      <th>3</th>\n",
       "      <td>ABBA</td>\n",
       "      <td>Bang</td>\n",
       "      <td>/a/abba/bang_20598415.html</td>\n",
       "      <td>Making somebody happy is a question of give an...</td>\n",
       "    </tr>\n",
       "    <tr>\n",
       "      <th>4</th>\n",
       "      <td>ABBA</td>\n",
       "      <td>Bang-A-Boomerang</td>\n",
       "      <td>/a/abba/bang+a+boomerang_20002668.html</td>\n",
       "      <td>Making somebody happy is a question of give an...</td>\n",
       "    </tr>\n",
       "  </tbody>\n",
       "</table>\n",
       "</div>"
      ],
      "text/plain": [
       "  artist                   song                                        link  \\\n",
       "0   ABBA  Ahe's My Kind Of Girl  /a/abba/ahes+my+kind+of+girl_20598417.html   \n",
       "1   ABBA       Andante, Andante       /a/abba/andante+andante_20002708.html   \n",
       "2   ABBA         As Good As New        /a/abba/as+good+as+new_20003033.html   \n",
       "3   ABBA                   Bang                  /a/abba/bang_20598415.html   \n",
       "4   ABBA       Bang-A-Boomerang      /a/abba/bang+a+boomerang_20002668.html   \n",
       "\n",
       "                                                text  \n",
       "0  Look at her face, it's a wonderful face  \\r\\nA...  \n",
       "1  Take it easy with me, please  \\r\\nTouch me gen...  \n",
       "2  I'll never know why I had to go  \\r\\nWhy I had...  \n",
       "3  Making somebody happy is a question of give an...  \n",
       "4  Making somebody happy is a question of give an...  "
      ]
     },
     "execution_count": 3,
     "metadata": {},
     "output_type": "execute_result"
    }
   ],
   "source": [
    "df.head()"
   ]
  },
  {
   "cell_type": "code",
   "execution_count": 4,
   "id": "f14a5a29-758a-4db6-a570-802cfc0a7f4c",
   "metadata": {},
   "outputs": [],
   "source": [
    "df=df.sample(10000).drop('link' ,axis=1).reset_index(drop=True)"
   ]
  },
  {
   "cell_type": "markdown",
   "id": "153767c9-4d14-4201-a1dc-de48317c5276",
   "metadata": {},
   "source": [
    "Text PreProcessing"
   ]
  },
  {
   "cell_type": "code",
   "execution_count": 5,
   "id": "17539323-407f-4f17-abaa-e742e44f659f",
   "metadata": {},
   "outputs": [],
   "source": [
    "df['text']=df['text'].replace(r'^\\w\\s',' ').replace(r'\\n',' ' ,regex=True)"
   ]
  },
  {
   "cell_type": "code",
   "execution_count": 6,
   "id": "5ed9fb89-1086-473e-a004-addc1e7060cf",
   "metadata": {},
   "outputs": [],
   "source": [
    "import nltk\n",
    "from nltk.stem.porter import PorterStemmer"
   ]
  },
  {
   "cell_type": "code",
   "execution_count": 7,
   "id": "082f7574-6f6d-4666-b678-209eb77a987c",
   "metadata": {},
   "outputs": [],
   "source": [
    "stemmer = PorterStemmer()"
   ]
  },
  {
   "cell_type": "code",
   "execution_count": 8,
   "id": "21f176be-0c0a-4f55-af25-82535ac38e70",
   "metadata": {},
   "outputs": [],
   "source": [
    "def token(txt):\n",
    "    token=nltk.word_tokenize(txt)\n",
    "    a=[stemmer.stem(w)for w in token]\n",
    "    return \" \".join(a)"
   ]
  },
  {
   "cell_type": "code",
   "execution_count": 9,
   "id": "86e5ba9e-938a-4d00-b954-9ffc69532753",
   "metadata": {},
   "outputs": [
    {
     "data": {
      "text/plain": [
       "'you are beauti , beauti'"
      ]
     },
     "execution_count": 9,
     "metadata": {},
     "output_type": "execute_result"
    }
   ],
   "source": [
    "token(\"You are beautiful, beautifully\")"
   ]
  },
  {
   "cell_type": "code",
   "execution_count": 10,
   "id": "debdd7e6-9578-4ef0-b850-a42cbcfa7f72",
   "metadata": {},
   "outputs": [
    {
     "data": {
      "text/plain": [
       "0       make up my life killer in the night rattl my b...\n",
       "1       toss into my mind , stir the calm you splash m...\n",
       "2       move like a fist through traffic anger and no ...\n",
       "3       lord , i give myself , i trust in you , mighti...\n",
       "4       vers 1 : frank , out on the street . work late...\n",
       "                              ...                        \n",
       "9995    most of us are sad no one let it show i 've be...\n",
       "9996    ooh , wahh ooh , wahh i love how your eye clos...\n",
       "9997    look on down from the bridg there 's still fou...\n",
       "9998    there 's a stormi vision star befor my eye i s...\n",
       "9999    front room back room slide into tabl crowd int...\n",
       "Name: text, Length: 10000, dtype: object"
      ]
     },
     "execution_count": 10,
     "metadata": {},
     "output_type": "execute_result"
    }
   ],
   "source": [
    "df['text'].apply(lambda x:token(x))"
   ]
  },
  {
   "cell_type": "code",
   "execution_count": 11,
   "id": "663e686d-a40f-41f8-beee-5ba8e0cfb1cb",
   "metadata": {},
   "outputs": [],
   "source": [
    "from sklearn.feature_extraction.text import TfidfVectorizer\n",
    "from sklearn.metrics.pairwise import cosine_similarity"
   ]
  },
  {
   "cell_type": "code",
   "execution_count": 12,
   "id": "14d84fe0-2921-43e9-bd89-547345124260",
   "metadata": {},
   "outputs": [],
   "source": [
    "tfid=TfidfVectorizer(analyzer='word' ,stop_words='english')"
   ]
  },
  {
   "cell_type": "code",
   "execution_count": 13,
   "id": "f88c6adf-a128-4288-89bb-bfe6e6f51ac7",
   "metadata": {},
   "outputs": [],
   "source": [
    "matrix=tfid.fit_transform(df['text'])"
   ]
  },
  {
   "cell_type": "code",
   "execution_count": 14,
   "id": "4185b718-8301-4fca-86af-8001b887c694",
   "metadata": {},
   "outputs": [],
   "source": [
    "similar=cosine_similarity(matrix)"
   ]
  },
  {
   "cell_type": "code",
   "execution_count": 15,
   "id": "b12ce912-e531-4ba7-9145-1ca32ff619b5",
   "metadata": {},
   "outputs": [
    {
     "data": {
      "text/plain": [
       "array([1.        , 0.0015954 , 0.01592554, ..., 0.01369647, 0.00301159,\n",
       "       0.00791705])"
      ]
     },
     "execution_count": 15,
     "metadata": {},
     "output_type": "execute_result"
    }
   ],
   "source": [
    "similar[0]"
   ]
  },
  {
   "cell_type": "code",
   "execution_count": 16,
   "id": "5c0c0226-b616-46a6-bbb6-bf14a135c590",
   "metadata": {},
   "outputs": [
    {
     "data": {
      "text/html": [
       "<div>\n",
       "<style scoped>\n",
       "    .dataframe tbody tr th:only-of-type {\n",
       "        vertical-align: middle;\n",
       "    }\n",
       "\n",
       "    .dataframe tbody tr th {\n",
       "        vertical-align: top;\n",
       "    }\n",
       "\n",
       "    .dataframe thead th {\n",
       "        text-align: right;\n",
       "    }\n",
       "</style>\n",
       "<table border=\"1\" class=\"dataframe\">\n",
       "  <thead>\n",
       "    <tr style=\"text-align: right;\">\n",
       "      <th></th>\n",
       "      <th>artist</th>\n",
       "      <th>song</th>\n",
       "      <th>text</th>\n",
       "    </tr>\n",
       "  </thead>\n",
       "  <tbody>\n",
       "    <tr>\n",
       "      <th>9995</th>\n",
       "      <td>Eagles</td>\n",
       "      <td>Most Of Us Are Sad</td>\n",
       "      <td>Most of us are sad  \\r No one lets it show  \\r...</td>\n",
       "    </tr>\n",
       "    <tr>\n",
       "      <th>9996</th>\n",
       "      <td>Mud</td>\n",
       "      <td>I Love How To Love Me</td>\n",
       "      <td>Ooh, wahh  \\r Ooh, wahh  \\r   \\r I love how yo...</td>\n",
       "    </tr>\n",
       "    <tr>\n",
       "      <th>9997</th>\n",
       "      <td>Mazzy Star</td>\n",
       "      <td>Look On Down From The Bridge</td>\n",
       "      <td>Look on down from the bridge  \\r There's still...</td>\n",
       "    </tr>\n",
       "    <tr>\n",
       "      <th>9998</th>\n",
       "      <td>Doobie Brothers</td>\n",
       "      <td>Under The Spell</td>\n",
       "      <td>There's a stormy vision  \\r Stars before my ey...</td>\n",
       "    </tr>\n",
       "    <tr>\n",
       "      <th>9999</th>\n",
       "      <td>Joni Mitchell</td>\n",
       "      <td>Tax Free</td>\n",
       "      <td>Front rooms  \\r Back rooms  \\r Slide into tabl...</td>\n",
       "    </tr>\n",
       "  </tbody>\n",
       "</table>\n",
       "</div>"
      ],
      "text/plain": [
       "               artist                          song  \\\n",
       "9995           Eagles            Most Of Us Are Sad   \n",
       "9996              Mud         I Love How To Love Me   \n",
       "9997       Mazzy Star  Look On Down From The Bridge   \n",
       "9998  Doobie Brothers               Under The Spell   \n",
       "9999    Joni Mitchell                      Tax Free   \n",
       "\n",
       "                                                   text  \n",
       "9995  Most of us are sad  \\r No one lets it show  \\r...  \n",
       "9996  Ooh, wahh  \\r Ooh, wahh  \\r   \\r I love how yo...  \n",
       "9997  Look on down from the bridge  \\r There's still...  \n",
       "9998  There's a stormy vision  \\r Stars before my ey...  \n",
       "9999  Front rooms  \\r Back rooms  \\r Slide into tabl...  "
      ]
     },
     "execution_count": 16,
     "metadata": {},
     "output_type": "execute_result"
    }
   ],
   "source": [
    "df.tail()"
   ]
  },
  {
   "cell_type": "code",
   "execution_count": 18,
   "id": "b3c3bc98-4fb6-4c2f-8e35-424e7388e718",
   "metadata": {},
   "outputs": [
    {
     "data": {
      "text/plain": [
       "5418"
      ]
     },
     "execution_count": 18,
     "metadata": {},
     "output_type": "execute_result"
    }
   ],
   "source": [
    "df[df['song']=='Peace Of Mind'].index[0]"
   ]
  },
  {
   "cell_type": "markdown",
   "id": "02275338-cc12-42e6-8da5-a82b3fee4570",
   "metadata": {},
   "source": [
    "Recommender Function"
   ]
  },
  {
   "cell_type": "code",
   "execution_count": 19,
   "id": "b999f339-897b-4bef-8009-c9b1a16f66cc",
   "metadata": {},
   "outputs": [],
   "source": [
    "def recommender(song_name):\n",
    "    idx = df[df['song']==song_name].index[0]\n",
    "    distance=sorted(list(enumerate(similar[idx])) ,reverse=True, key = lambda x:x[1])\n",
    "    song=[]\n",
    "    for s_id in distance[1:21]:\n",
    "        song.append(df.iloc[s_id[0]].song)\n",
    "    return song"
   ]
  },
  {
   "cell_type": "code",
   "execution_count": 20,
   "id": "c4f7512a-35d6-48f4-9844-0919c816819d",
   "metadata": {},
   "outputs": [
    {
     "data": {
      "text/plain": [
       "['Anything Is Possible',\n",
       " 'None Of Us Are Free',\n",
       " 'Got To Be Free',\n",
       " 'All Things Are Possible',\n",
       " 'Got To Be Free',\n",
       " 'Free Like We Want 2 B',\n",
       " 'I Want To Break Free',\n",
       " \"I'm Free\",\n",
       " 'Middle Man',\n",
       " 'Lose Again',\n",
       " 'All In Your Mind',\n",
       " 'Impossible',\n",
       " 'Peace',\n",
       " \"It's Love\",\n",
       " 'If You Were The Only Girl In The World',\n",
       " 'Break Free',\n",
       " 'Nightingale',\n",
       " 'Intro',\n",
       " 'Someday My Peace Will Come',\n",
       " \"I Won't Mind\"]"
      ]
     },
     "execution_count": 20,
     "metadata": {},
     "output_type": "execute_result"
    }
   ],
   "source": [
    "recommender(\"Peace Of Mind\")"
   ]
  },
  {
   "cell_type": "code",
   "execution_count": 21,
   "id": "30a8d2b2-d2fa-4e99-93ba-04ccf57e22b2",
   "metadata": {},
   "outputs": [],
   "source": [
    "import pickle"
   ]
  },
  {
   "cell_type": "code",
   "execution_count": 22,
   "id": "48042472-e99a-426b-88cb-1c6aead3b477",
   "metadata": {},
   "outputs": [],
   "source": [
    "pickle.dump(similar, open(\"similarity\" , \"wb\"))"
   ]
  },
  {
   "cell_type": "code",
   "execution_count": 23,
   "id": "2be3a060-8eaf-49d7-81b1-d9b3e164f626",
   "metadata": {},
   "outputs": [],
   "source": [
    "pickle.dump(df, open(\"df\" , \"wb\"))"
   ]
  },
  {
   "cell_type": "code",
   "execution_count": null,
   "id": "b20103dc-44d4-419f-823a-ecd2d514c12a",
   "metadata": {},
   "outputs": [],
   "source": []
  }
 ],
 "metadata": {
  "kernelspec": {
   "display_name": "Python 3 (ipykernel)",
   "language": "python",
   "name": "python3"
  },
  "language_info": {
   "codemirror_mode": {
    "name": "ipython",
    "version": 3
   },
   "file_extension": ".py",
   "mimetype": "text/x-python",
   "name": "python",
   "nbconvert_exporter": "python",
   "pygments_lexer": "ipython3",
   "version": "3.12.7"
  }
 },
 "nbformat": 4,
 "nbformat_minor": 5
}
